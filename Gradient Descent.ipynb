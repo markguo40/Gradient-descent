{
 "cells": [
  {
   "cell_type": "code",
   "execution_count": 10,
   "metadata": {
    "collapsed": false
   },
   "outputs": [],
   "source": [
    "import pandas as pd\n",
    "import numpy as np\n",
    "import matplotlib.pyplot as plt\n",
    "%matplotlib inline\n",
    "\n",
    "data = pd.read_csv(\"cs111-svm-dataset---sheet1.csv\")"
   ]
  },
  {
   "cell_type": "code",
   "execution_count": 23,
   "metadata": {
    "collapsed": false
   },
   "outputs": [
    {
     "name": "stderr",
     "output_type": "stream",
     "text": [
      "/Library/Frameworks/Python.framework/Versions/3.5/lib/python3.5/site-packages/matplotlib/collections.py:590: FutureWarning: elementwise comparison failed; returning scalar instead, but in the future will perform elementwise comparison\n",
      "  if self._edgecolors == str('face'):\n"
     ]
    },
    {
     "data": {
      "image/png": "[encoded data removed]",
      "text/plain": [
       "<matplotlib.figure.Figure at 0x106e1f320>"
      ]
     },
     "metadata": {},
     "output_type": "display_data"
    }
   ],
   "source": [
    "original = data.plot(x='X1', y='X2', kind=\"scatter\", c='Classification', cmap='gray', colorbar=False, title='Orignal data')"
   ]
  },
  {
   "cell_type": "code",
   "execution_count": 12,
   "metadata": {
    "collapsed": true
   },
   "outputs": [],
   "source": [
    "import math\n",
    "def dm1(x1, x2, y, m1, m2, b):\n",
    "    A = np.exp(-y * (m1 * x1 + m2 * x2 + b))\n",
    "    return np.mean(-y * x1 * A * (1 / (1 + A)))\n",
    "\n",
    "def dm2(x1, x2, y, m1, m2, b):\n",
    "    A = np.exp(-y * (m1 * x1 + m2 * x2 + b))\n",
    "    return np.mean(-y * x2 * A * (1 / (1 + A)))\n",
    "\n",
    "def db(x1, x2, y, m1, m2, b):\n",
    "    A = np.exp(-y * (m1 * x1 + m2 * x2 + b))\n",
    "    return np.mean(-y * A * (1 / (1 + A)))"
   ]
  },
  {
   "cell_type": "code",
   "execution_count": 120,
   "metadata": {
    "collapsed": false
   },
   "outputs": [],
   "source": [
    "x1 = data['X1'].values\n",
    "x2 = data['X2'].values\n",
    "y = data['Classification'].values\n",
    "y[y == 0] = -1"
   ]
  },
  {
   "cell_type": "code",
   "execution_count": 124,
   "metadata": {
    "collapsed": true
   },
   "outputs": [],
   "source": [
    "m1p, m2p, bp = 0, 0, 0 #empty value for iteration purpose\n",
    "m1, m2, b = 0.5, 0.5, 1 #init\n",
    "alpha = 0.1\n",
    "precision = 0.00001"
   ]
  },
  {
   "cell_type": "code",
   "execution_count": 125,
   "metadata": {
    "collapsed": false
   },
   "outputs": [
    {
     "name": "stdout",
     "output_type": "stream",
     "text": [
      "-1.21622381782 -1.07049314068 5.30682800667 99435\n"
     ]
    }
   ],
   "source": [
    "steps = 0\n",
    "while abs(m1 - m1p) > precision or abs(m2 - m2p) > precision or abs(b - bp) > precision:\n",
    "    m1p, m2p, bp = m1, m2, b\n",
    "    m1t = m1 - alpha * dm1(x1, x2, y, m1, m2, b)\n",
    "    m2t = m2 - alpha * dm2(x1, x2, y, m1, m2, b)\n",
    "    bt = b - alpha * db(x1, x2, y, m1, m2, b)\n",
    "    m1, m2, b = m1t, m2t, bt\n",
    "    steps += 1\n",
    "    \n",
    "print(m1, m2, b, steps)"
   ]
  },
  {
   "cell_type": "code",
   "execution_count": 126,
   "metadata": {
    "collapsed": false
   },
   "outputs": [
    {
     "data": {
      "text/plain": [
       "<matplotlib.text.Text at 0x1098eccc0>"
      ]
     },
     "execution_count": 126,
     "metadata": {},
     "output_type": "execute_result"
    },
    {
     "name": "stderr",
     "output_type": "stream",
     "text": [
      "/Library/Frameworks/Python.framework/Versions/3.5/lib/python3.5/site-packages/matplotlib/collections.py:590: FutureWarning: elementwise comparison failed; returning scalar instead, but in the future will perform elementwise comparison\n",
      "  if self._edgecolors == str('face'):\n"
     ]
    },
    {
     "data": {
      "image/png": "[encoded data removed]",
      "text/plain": [
       "<matplotlib.figure.Figure at 0x109888438>"
      ]
     },
     "metadata": {},
     "output_type": "display_data"
    }
   ],
   "source": [
    "def getx2_by_fx(x1, m1, m2, b):\n",
    "    #assume f(x1, x2) = 0\n",
    "    return (m1 * x1 + b) / -m2\n",
    "hypo_x1 = np.linspace(-30, 30, 20)\n",
    "line = getx2_by_fx(hypo_x1, m1, m2, b)\n",
    "plt.plot(hypo_x1, line)\n",
    "plt.scatter(x1, x2, c=y, cmap='gray')\n",
    "plt.title(\"SVM\")\n",
    "plt.xlabel(\"X1\")\n",
    "plt.ylabel(\"X2\")"
   ]
  },
  {
   "cell_type": "code",
   "execution_count": null,
   "metadata": {
    "collapsed": true
   },
   "outputs": [],
   "source": []
  }
 ],
 "metadata": {
  "kernelspec": {
   "display_name": "Python 3",
   "language": "python",
   "name": "python3"
  },
  "language_info": {
   "codemirror_mode": {
    "name": "ipython",
    "version": 3
   },
   "file_extension": ".py",
   "mimetype": "text/x-python",
   "name": "python",
   "nbconvert_exporter": "python",
   "pygments_lexer": "ipython3",
   "version": "3.5.0"
  }
 },
 "nbformat": 4,
 "nbformat_minor": 0
}
